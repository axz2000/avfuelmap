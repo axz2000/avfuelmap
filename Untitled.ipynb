{
 "cells": [
  {
   "cell_type": "code",
   "execution_count": 1,
   "metadata": {},
   "outputs": [],
   "source": [
    "import requests"
   ]
  },
  {
   "cell_type": "code",
   "execution_count": 3,
   "metadata": {},
   "outputs": [
    {
     "name": "stdout",
     "output_type": "stream",
     "text": [
      "Collecting fake_useragent\n",
      "  Downloading https://files.pythonhosted.org/packages/d1/79/af647635d6968e2deb57a208d309f6069d31cb138066d7e821e575112a80/fake-useragent-0.1.11.tar.gz\n",
      "Building wheels for collected packages: fake-useragent\n",
      "  Building wheel for fake-useragent (setup.py): started\n",
      "  Building wheel for fake-useragent (setup.py): finished with status 'done'\n",
      "  Created wheel for fake-useragent: filename=fake_useragent-0.1.11-cp37-none-any.whl size=13490 sha256=104495f0b0acd8e8b7c2d3e3c8757de40fec693282db7fa17458739cf9a8a85c\n",
      "  Stored in directory: C:\\Users\\Alan\\AppData\\Local\\pip\\Cache\\wheels\\5e\\63\\09\\d1dc15179f175357d3f5c00cbffbac37f9e8690d80545143ff\n",
      "Successfully built fake-useragent\n",
      "Installing collected packages: fake-useragent\n",
      "Successfully installed fake-useragent-0.1.11\n"
     ]
    }
   ],
   "source": [
    "!pip install fake_useragent\n",
    "from fake_useragent import UserAgent"
   ]
  },
  {
   "cell_type": "code",
   "execution_count": 4,
   "metadata": {},
   "outputs": [
    {
     "data": {
      "text/plain": [
       "'Mozilla/5.0 (Windows NT 6.1; WOW64) AppleWebKit/537.36 (KHTML, like Gecko) Chrome/36.0.1985.67 Safari/537.36'"
      ]
     },
     "execution_count": 4,
     "metadata": {},
     "output_type": "execute_result"
    }
   ],
   "source": [
    "ua = UserAgent()\n",
    "ua.chrome"
   ]
  },
  {
   "cell_type": "code",
   "execution_count": 12,
   "metadata": {},
   "outputs": [
    {
     "data": {
      "text/plain": [
       "'Opera/9.80 (X11; Linux i686; U; hu) Presto/2.9.168 Version/11.50'"
      ]
     },
     "execution_count": 12,
     "metadata": {},
     "output_type": "execute_result"
    }
   ],
   "source": [
    "ua.random"
   ]
  },
  {
   "cell_type": "code",
   "execution_count": 1,
   "metadata": {},
   "outputs": [],
   "source": [
    "import pandas as pd"
   ]
  },
  {
   "cell_type": "code",
   "execution_count": 2,
   "metadata": {},
   "outputs": [],
   "source": [
    "testdict = {'0J0': ('1000', '1000', 200),\n",
    " '2A8': ('1000', '1000', 200),\n",
    " 'KEET': ('3.80', '4.15', 200),\n",
    " '8A0': ('4.45', '4.10', 200),}"
   ]
  },
  {
   "cell_type": "code",
   "execution_count": 3,
   "metadata": {},
   "outputs": [
    {
     "data": {
      "text/plain": [
       "dict_keys(['0J0', '2A8', 'KEET', '8A0'])"
      ]
     },
     "execution_count": 3,
     "metadata": {},
     "output_type": "execute_result"
    }
   ],
   "source": [
    "testdict.keys()"
   ]
  },
  {
   "cell_type": "code",
   "execution_count": 4,
   "metadata": {},
   "outputs": [],
   "source": [
    "airports = pd.read_json(\"USairports.json\",orient='index')"
   ]
  },
  {
   "cell_type": "code",
   "execution_count": 11,
   "metadata": {},
   "outputs": [
    {
     "data": {
      "text/html": [
       "<div>\n",
       "<style scoped>\n",
       "    .dataframe tbody tr th:only-of-type {\n",
       "        vertical-align: middle;\n",
       "    }\n",
       "\n",
       "    .dataframe tbody tr th {\n",
       "        vertical-align: top;\n",
       "    }\n",
       "\n",
       "    .dataframe thead th {\n",
       "        text-align: right;\n",
       "    }\n",
       "</style>\n",
       "<table border=\"1\" class=\"dataframe\">\n",
       "  <thead>\n",
       "    <tr style=\"text-align: right;\">\n",
       "      <th></th>\n",
       "      <th>city</th>\n",
       "      <th>icao</th>\n",
       "      <th>lat</th>\n",
       "      <th>lon</th>\n",
       "      <th>name</th>\n",
       "      <th>state</th>\n",
       "    </tr>\n",
       "  </thead>\n",
       "  <tbody>\n",
       "    <tr>\n",
       "      <td>KEET</td>\n",
       "      <td>Alabaster</td>\n",
       "      <td>KEET</td>\n",
       "      <td>33.176998</td>\n",
       "      <td>-86.782799</td>\n",
       "      <td>Shelby County Airport</td>\n",
       "      <td>Alabama</td>\n",
       "    </tr>\n",
       "  </tbody>\n",
       "</table>\n",
       "</div>"
      ],
      "text/plain": [
       "           city  icao        lat        lon                   name    state\n",
       "KEET  Alabaster  KEET  33.176998 -86.782799  Shelby County Airport  Alabama"
      ]
     },
     "execution_count": 11,
     "metadata": {},
     "output_type": "execute_result"
    }
   ],
   "source": [
    "airports[airports['icao'].isin(testdict.keys())]"
   ]
  },
  {
   "cell_type": "code",
   "execution_count": 13,
   "metadata": {},
   "outputs": [
    {
     "data": {
      "text/html": [
       "<div>\n",
       "<style scoped>\n",
       "    .dataframe tbody tr th:only-of-type {\n",
       "        vertical-align: middle;\n",
       "    }\n",
       "\n",
       "    .dataframe tbody tr th {\n",
       "        vertical-align: top;\n",
       "    }\n",
       "\n",
       "    .dataframe thead th {\n",
       "        text-align: right;\n",
       "    }\n",
       "</style>\n",
       "<table border=\"1\" class=\"dataframe\">\n",
       "  <thead>\n",
       "    <tr style=\"text-align: right;\">\n",
       "      <th></th>\n",
       "      <th>city</th>\n",
       "      <th>icao</th>\n",
       "      <th>lat</th>\n",
       "      <th>lon</th>\n",
       "      <th>name</th>\n",
       "      <th>state</th>\n",
       "    </tr>\n",
       "  </thead>\n",
       "  <tbody>\n",
       "    <tr>\n",
       "      <td>K00C</td>\n",
       "      <td>Durango</td>\n",
       "      <td>K00C</td>\n",
       "      <td>37.203201</td>\n",
       "      <td>-107.869003</td>\n",
       "      <td>Animas Air Park</td>\n",
       "      <td>Colorado</td>\n",
       "    </tr>\n",
       "    <tr>\n",
       "      <td>K00F</td>\n",
       "      <td>Broadus</td>\n",
       "      <td>K00F</td>\n",
       "      <td>45.472500</td>\n",
       "      <td>-105.454002</td>\n",
       "      <td>Broadus Airport</td>\n",
       "      <td>Montana</td>\n",
       "    </tr>\n",
       "    <tr>\n",
       "      <td>K00M</td>\n",
       "      <td>Bay Springs</td>\n",
       "      <td>K00M</td>\n",
       "      <td>31.953800</td>\n",
       "      <td>-89.234497</td>\n",
       "      <td>Thigpen Field</td>\n",
       "      <td>Mississippi</td>\n",
       "    </tr>\n",
       "    <tr>\n",
       "      <td>K00R</td>\n",
       "      <td>Livingston</td>\n",
       "      <td>K00R</td>\n",
       "      <td>30.685900</td>\n",
       "      <td>-95.017899</td>\n",
       "      <td>Livingston Municipal Airport</td>\n",
       "      <td>Texas</td>\n",
       "    </tr>\n",
       "    <tr>\n",
       "      <td>K01G</td>\n",
       "      <td>Perry</td>\n",
       "      <td>K01G</td>\n",
       "      <td>42.741299</td>\n",
       "      <td>-78.052101</td>\n",
       "      <td>Perry-Warsaw Airport</td>\n",
       "      <td>New-York</td>\n",
       "    </tr>\n",
       "    <tr>\n",
       "      <td>...</td>\n",
       "      <td>...</td>\n",
       "      <td>...</td>\n",
       "      <td>...</td>\n",
       "      <td>...</td>\n",
       "      <td>...</td>\n",
       "      <td>...</td>\n",
       "    </tr>\n",
       "    <tr>\n",
       "      <td>KZEF</td>\n",
       "      <td>Elkin</td>\n",
       "      <td>KZEF</td>\n",
       "      <td>36.279999</td>\n",
       "      <td>-80.786102</td>\n",
       "      <td>Elkin Municipal Airport</td>\n",
       "      <td>North-Carolina</td>\n",
       "    </tr>\n",
       "    <tr>\n",
       "      <td>KZER</td>\n",
       "      <td>Pottsville</td>\n",
       "      <td>KZER</td>\n",
       "      <td>40.706501</td>\n",
       "      <td>-76.373100</td>\n",
       "      <td>Schuylkill County /Joe Zerbey/ Airport</td>\n",
       "      <td>Pennsylvania</td>\n",
       "    </tr>\n",
       "    <tr>\n",
       "      <td>KZPH</td>\n",
       "      <td>Zephyrhills</td>\n",
       "      <td>KZPH</td>\n",
       "      <td>28.228201</td>\n",
       "      <td>-82.155899</td>\n",
       "      <td>Zephyrhills Municipal Airport</td>\n",
       "      <td>Florida</td>\n",
       "    </tr>\n",
       "    <tr>\n",
       "      <td>KZUN</td>\n",
       "      <td>Zuni Pueblo</td>\n",
       "      <td>KZUN</td>\n",
       "      <td>35.083199</td>\n",
       "      <td>-108.792000</td>\n",
       "      <td>Black Rock Airport</td>\n",
       "      <td>New-Mexico</td>\n",
       "    </tr>\n",
       "    <tr>\n",
       "      <td>KZZV</td>\n",
       "      <td>Zanesville</td>\n",
       "      <td>KZZV</td>\n",
       "      <td>39.944401</td>\n",
       "      <td>-81.892097</td>\n",
       "      <td>Zanesville Municipal Airport</td>\n",
       "      <td>Ohio</td>\n",
       "    </tr>\n",
       "  </tbody>\n",
       "</table>\n",
       "<p>3625 rows × 6 columns</p>\n",
       "</div>"
      ],
      "text/plain": [
       "             city  icao        lat         lon  \\\n",
       "K00C      Durango  K00C  37.203201 -107.869003   \n",
       "K00F      Broadus  K00F  45.472500 -105.454002   \n",
       "K00M  Bay Springs  K00M  31.953800  -89.234497   \n",
       "K00R   Livingston  K00R  30.685900  -95.017899   \n",
       "K01G        Perry  K01G  42.741299  -78.052101   \n",
       "...           ...   ...        ...         ...   \n",
       "KZEF        Elkin  KZEF  36.279999  -80.786102   \n",
       "KZER   Pottsville  KZER  40.706501  -76.373100   \n",
       "KZPH  Zephyrhills  KZPH  28.228201  -82.155899   \n",
       "KZUN  Zuni Pueblo  KZUN  35.083199 -108.792000   \n",
       "KZZV   Zanesville  KZZV  39.944401  -81.892097   \n",
       "\n",
       "                                        name           state  \n",
       "K00C                         Animas Air Park        Colorado  \n",
       "K00F                         Broadus Airport         Montana  \n",
       "K00M                           Thigpen Field     Mississippi  \n",
       "K00R            Livingston Municipal Airport           Texas  \n",
       "K01G                    Perry-Warsaw Airport        New-York  \n",
       "...                                      ...             ...  \n",
       "KZEF                 Elkin Municipal Airport  North-Carolina  \n",
       "KZER  Schuylkill County /Joe Zerbey/ Airport    Pennsylvania  \n",
       "KZPH           Zephyrhills Municipal Airport         Florida  \n",
       "KZUN                      Black Rock Airport      New-Mexico  \n",
       "KZZV            Zanesville Municipal Airport            Ohio  \n",
       "\n",
       "[3625 rows x 6 columns]"
      ]
     },
     "execution_count": 13,
     "metadata": {},
     "output_type": "execute_result"
    }
   ],
   "source": [
    "airports[airports['icao'].str.startswith('K')]"
   ]
  },
  {
   "cell_type": "code",
   "execution_count": null,
   "metadata": {},
   "outputs": [],
   "source": []
  }
 ],
 "metadata": {
  "kernelspec": {
   "display_name": "Python 3",
   "language": "python",
   "name": "python3"
  },
  "language_info": {
   "codemirror_mode": {
    "name": "ipython",
    "version": 3
   },
   "file_extension": ".py",
   "mimetype": "text/x-python",
   "name": "python",
   "nbconvert_exporter": "python",
   "pygments_lexer": "ipython3",
   "version": "3.7.4"
  }
 },
 "nbformat": 4,
 "nbformat_minor": 2
}
